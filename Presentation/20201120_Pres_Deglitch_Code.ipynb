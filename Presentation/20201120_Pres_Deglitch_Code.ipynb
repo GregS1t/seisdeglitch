{
 "cells": [
  {
   "cell_type": "markdown",
   "metadata": {
    "slideshow": {
     "slide_type": "slide"
    }
   },
   "source": [
    "# Steps to deglitch seismic signals\n",
    "\n",
    "This document is a working document to explain the different steps to deglitch SEIS signal. \n",
    "\n",
    "Algorithms mainly come from Philippe Lognonné deglitching code. \n",
    " \n"
   ]
  },
  {
   "cell_type": "markdown",
   "metadata": {},
   "source": [
    "## Main architecture of the code\n",
    "\n",
    "<img src=\"plots/DeglitchCodeArchitecurev1.0.png\">\n",
    "\n",
    "\n",
    "Preprocessing aspects are not presented here. Lack of time..."
   ]
  },
  {
   "cell_type": "markdown",
   "metadata": {
    "slideshow": {
     "slide_type": "slide"
    }
   },
   "source": [
    "## The Green functions"
   ]
  },
  {
   "cell_type": "markdown",
   "metadata": {
    "slideshow": {
     "slide_type": "subslide"
    }
   },
   "source": [
    "The Philippe's idea was to consider a glitch as step function in acceleration + a step in displacement\n",
    "\n",
    "$U(t) = \\phi_A.H(t-t_0)*T_{ACC}(t)+\\phi_D.H(t-t_0)*T_{DIS}(t)$\n",
    "\n",
    "Where $T_{ACC}$ and $T_{DIS}$ are the seismometer response to a Dirac impulse in acceleration and displacement respectively.\n",
    "\n",
    "With $T_{DIS}=\\ddot{T}_{ACC}$\n",
    "\n",
    "So we have to apply the instrument response to this Heavyside function and estimate the derivatives\n",
    "The tranfert function (following plot) is given by the poles and the zeros stored in the dataless files\n",
    "\n",
    "For more details, see the supplementary material of the article J. Scholz & al (Detection, analysis and removal of glitches from InSight's Seismic data from Mars, Earth and Space Science)"
   ]
  },
  {
   "cell_type": "markdown",
   "metadata": {
    "slideshow": {
     "slide_type": "subslide"
    }
   },
   "source": [
    "Example for VBB VEL: \n",
    "\n",
    "$zero= [0,0,-109.316, -10.1317]$\n",
    "$pole= [-46.7264+73.9273i, -46.7264-73.9273i, -11.7674+0i, -0.243358+0.30515i, -0.243358-0.30515i]$\n",
    "$gain= 86262322608$\n",
    "$A_0  = 80.2887$\n",
    "\n",
    "\n",
    "$\\begin{equation*}\n",
    "H(s)=k\\frac{\\Pi_{i=1}^{m}(s-z_i)}{\\Pi_{j=1}^{n}(s-p_j)}\n",
    "\\end{equation*}$\n",
    "\n",
    "\n",
    "Where $k = gain\\times A_0$"
   ]
  },
  {
   "cell_type": "markdown",
   "metadata": {
    "slideshow": {
     "slide_type": "subslide"
    }
   },
   "source": [
    "### Matlab point of view\n",
    "\n",
    "1. Get the poles, zeros and gains is given by the function `read_resp_v2` \n",
    "2. ZPK model is created with `zpk()`\n",
    "\n",
    "    $\\texttt{sys = zpk(uzero_init, upole, ugain*uA0);}$  \n",
    "    \n",
    "    \n",
    "3. Apply this transfer function to an Heavyside is given by the command `step()`\n",
    "    \n",
    "    $\\texttt{green_20sps= step(sys, time_20sps);}$\n"
   ]
  },
  {
   "cell_type": "markdown",
   "metadata": {
    "slideshow": {
     "slide_type": "subslide"
    }
   },
   "source": [
    "### Transfert function of the VBB VEL sensors\n",
    "\n",
    "<img src=\"plots/VBB_VEL_Bode.jpg\">\n"
   ]
  },
  {
   "cell_type": "markdown",
   "metadata": {
    "slideshow": {
     "slide_type": "subslide"
    }
   },
   "source": [
    "### Plot of the Green's function\n",
    "\n",
    "<img src=\"plots/Greens_func_and_derivatives.jpg\">\n",
    "\n",
    "\n",
    "These function a made in the function `get_green_func.m`\n"
   ]
  },
  {
   "cell_type": "markdown",
   "metadata": {
    "slideshow": {
     "slide_type": "slide"
    }
   },
   "source": [
    "## Modelisation"
   ]
  },
  {
   "cell_type": "markdown",
   "metadata": {
    "slideshow": {
     "slide_type": "subslide"
    }
   },
   "source": [
    "### Fit using a single source in acceleration\n",
    "\n",
    "Can be modelised as follow \n",
    "$S(t) = aG(t) + bG'(t) \\tag{1}$\n",
    "\n",
    "We are using the Green's function and it's derivative.\n"
   ]
  },
  {
   "cell_type": "markdown",
   "metadata": {
    "slideshow": {
     "slide_type": "subslide"
    }
   },
   "source": [
    "$\\begin{equation*}\n",
    "\\begin{pmatrix}\n",
    "\\hat y(t_1)\\\\\n",
    "\\hat y(t_2)\\\\\n",
    "\\vdots     \\\\\n",
    "\\hat y(t_m)\n",
    "\\end{pmatrix} \n",
    "=\n",
    "\\begin{pmatrix}\n",
    "G(t_1) & G'(t_1) \\\\\n",
    "G(t_2) & G'(t_2) \\\\\n",
    "\\vdots  & \\vdots \\\\\n",
    "G(t_m) & G'(t_m)\n",
    "\\end{pmatrix}\n",
    "\\cdot\n",
    "\\begin{pmatrix}\n",
    "a \\\\\n",
    "b\n",
    "\\end{pmatrix} \n",
    "\\end{equation*} \\tag{2}$\n",
    "\n",
    "Which has the classical from $\\hat y = X.\\theta$\n",
    "\n",
    "It's a least square minimization on a linear system: \n",
    "\n",
    "Normal equation: \n",
    "\n",
    "$\\theta = (X^T.X)^{-1}.X^T.y \\tag{3} $\n",
    "\n",
    "Where $y(t)$ is the original seismic signal. "
   ]
  },
  {
   "cell_type": "markdown",
   "metadata": {
    "slideshow": {
     "slide_type": "subslide"
    }
   },
   "source": [
    "The objective function $J(\\theta)$ as the following form\n",
    "\n",
    "$J(\\theta) = \\sum\\limits_{i=1}^{i=m} [\\hat{y}(x_i,\\theta)-y_i]^2 \\tag{4}$\n",
    "\n",
    "in matrix notation : \n",
    "\n",
    "$\\begin{align*}\n",
    "J(\\theta) &= (\\hat{y}-y)^T(\\hat{y}-y)\\\\\n",
    "          &=(Xa-y)^T(Xa-y)\\\\\n",
    "          &=(a^TX^T-t^T)(Xa-y) \\\\\n",
    "          &=a^TX^TXa - a^TX^Ty -y^TXa + y^Ty\n",
    "\\end{align*} \\tag{5}$\n",
    "\n",
    "$\\frac{\\partial J}{\\partial\\theta} = 0 \\iff X^TXa = X^Ty \\tag{6}$\n"
   ]
  },
  {
   "cell_type": "markdown",
   "metadata": {
    "slideshow": {
     "slide_type": "subslide"
    }
   },
   "source": [
    "### First improvment : give more weight on the significant part of the signal\n",
    "\n",
    "<img src=\"plots/WeightMask.jpg\">\n",
    "The size of the windows is given by two parameters. \n",
    "So Let's $W$ be the weight vector."
   ]
  },
  {
   "cell_type": "markdown",
   "metadata": {
    "slideshow": {
     "slide_type": "subslide"
    }
   },
   "source": [
    "The normal equation becomes: \n",
    "    \n",
    "$\\theta = (X^T.W.X)^{-1}.X^T.W.y \\tag{7}$"
   ]
  },
  {
   "cell_type": "markdown",
   "metadata": {},
   "source": [
    "### Add the step in displacement (called precursor)\n",
    "\n",
    "Can be modelised as follow $𝑆(𝑡)=𝑎𝐺(𝑡)+𝑏\\dot{𝐺}(𝑡)+c\\ddot{𝐺}(t)+d\\dddot{G}(t)$\n",
    "\n",
    "$\\begin{equation*}\n",
    "\\begin{pmatrix}\n",
    "\\hat y(t_1)\\\\\n",
    "\\hat y(t_2)\\\\\n",
    "\\vdots     \\\\\n",
    "\\hat y(t_m)\n",
    "\\end{pmatrix} \n",
    "=\n",
    "\\begin{pmatrix}\n",
    "G(t_1) & G'(t_1) & \\ddot{G}(t_1) & \\dddot{G}(t_1)\\\\\n",
    "G(t_2) & G'(t_2) & \\ddot{G}(t_2) & \\dddot{G}(t_2)\\\\\n",
    "\\vdots  & \\vdots & \\vdots        & \\vdots \\\\ \n",
    "G(t_m) & G'(t_m) & \\ddot{G}(t_m) & \\dddot{G}(t_m)\n",
    "\\end{pmatrix}\n",
    "\\cdot\n",
    "\\begin{pmatrix}\n",
    "a \\\\\n",
    "b \\\\\n",
    "c \\\\\n",
    "d\n",
    "\\end{pmatrix} \n",
    "\\end{equation*} \\tag{8}$\n"
   ]
  },
  {
   "cell_type": "markdown",
   "metadata": {},
   "source": [
    "### Add a slope under the signal \n",
    "\n",
    "This is done using two other parameters and adding two new vectors in the matrix to invert. \n",
    "- The first vector $U$ is unit vector with the same length as the Green's functions\n",
    "- The second vector $S$ is a slope vector with the same length as the Green's functions\n",
    "\n",
    "So the previous matrix become \n",
    "\n",
    "$\\begin{equation*}\n",
    "\\begin{pmatrix}\n",
    "\\hat y(t_1)\\\\\n",
    "\\hat y(t_2)\\\\\n",
    "\\vdots     \\\\\n",
    "\\hat y(t_m)\n",
    "\\end{pmatrix} \n",
    "=\n",
    "\\begin{pmatrix}\n",
    "G(t_1) & G'(t_1) & \\ddot{G}(t_1) & \\dddot{G}(t_1) & U(t_1) & S(t_1)\\\\\n",
    "G(t_2) & G'(t_2) & \\ddot{G}(t_2) & \\dddot{G}(t_2) & U(t_2) & S(t_2)\\\\\n",
    "\\vdots  & \\vdots & \\vdots        & \\vdots & \\vdots & \\vdots \\\\ \n",
    "G(t_m) & G'(t_m) & \\ddot{G}(t_m) & \\dddot{G}(t_m)  & U(t_m) & S(t_m)\n",
    "\\end{pmatrix}\n",
    "\\cdot\n",
    "\\begin{pmatrix}\n",
    "a \\\\\n",
    "b \\\\\n",
    "c \\\\\n",
    "d \\\\\n",
    "e \\\\\n",
    "f\n",
    "\\end{pmatrix} \n",
    "\\end{equation*} \\tag{9}$\n",
    "\n"
   ]
  },
  {
   "cell_type": "markdown",
   "metadata": {},
   "source": [
    "### Add contraints on the fit\n",
    "\n",
    "In order to make the fit correct, the first point of the fit and the last point of the fit must be the same as the time series.\n",
    "\n",
    "In practice, we use the Lagrangian multipliers to make sure that \n",
    "\n",
    "$\\begin{cases}\n",
    "\\hat{y}(t_1) = y(t_1) \\\\\n",
    "\\hat{y}(t_m) = y(t_m)\n",
    "\\end{cases} \\tag{10}$\n",
    "\n"
   ]
  },
  {
   "cell_type": "markdown",
   "metadata": {},
   "source": [
    "The matrix of constraints can be written as \n",
    "\n",
    "$\\begin{cases}\n",
    "y(t_1) = \\hat{y}(t_1) = a.G(t_1) + b.G'(t_1) + c.\\ddot{G}(t_1) + d.\\dddot{G}(t_1) + d.U(t_1) + f.S(t_1) \\\\\n",
    "y(t_m) = \\hat{y}(t_m) = a.G(t_m) + b.G'(t_m) + c.\\ddot{G}(t_m) + d.\\dddot{G}(t_m) + d.U(t_m) + f.S(t_m)\n",
    "\\end{cases} \\tag{11}$\n",
    "\n",
    "or in the matrix form\n",
    "\n",
    "$\\begin{equation*}\n",
    "\\begin{pmatrix}\n",
    "y(t_1)\\\\\n",
    "y(t_m) \n",
    "\\end{pmatrix} \n",
    "=\n",
    "\\begin{pmatrix}\n",
    "G(t_1) & G'(t_1) & \\ddot{G}(t_1) & \\dddot{G}(t_1) & U(t_1) & S(t_1)\\\\\n",
    "G(t_m) & G'(t_m) & \\ddot{G}(t_m) & \\dddot{G}(t_m)  & U(t_m) & S(t_m)\n",
    "\\end{pmatrix}\n",
    "\\cdot\n",
    "\\begin{pmatrix}\n",
    "a \\\\\n",
    "b \\\\\n",
    "c \\\\\n",
    "d \\\\\n",
    "e \\\\\n",
    "f\n",
    "\\end{pmatrix} \n",
    "\\end{equation*} \\tag{12}$\n",
    "\n",
    "Let's write it in short $b=A.\\theta$"
   ]
  },
  {
   "cell_type": "markdown",
   "metadata": {},
   "source": [
    "Now the cost function should be written as \n",
    "\n",
    "$J_A(a,\\lambda) = \\theta^TX^TX\\theta - \\theta^TX^Ty - y^TX\\theta + y^Ty + \\lambda^T(A\\theta-b) \\tag{13}$\n",
    "\n",
    "After Minimizing $J_A$ with respect to $\\theta$ and maximizing $J_A$ with respect to $\\lambda$ it comes \n",
    "\n",
    "$\\begin{equation*}\n",
    "\\begin{pmatrix}\n",
    "2X^TX & A^T \\\\\n",
    "A     & 0 \n",
    "\\end{pmatrix}\n",
    "\\cdot\n",
    "\\begin{pmatrix}\n",
    "\\theta^*\\\\\n",
    "\\lambda^* \n",
    "\\end{pmatrix}\n",
    "=\n",
    "\\begin{pmatrix}\n",
    "2X^Ty \\\\\n",
    "b\n",
    "\\end{pmatrix}\n",
    "\\end{equation*} \\tag{14}$\n",
    "\n",
    "Where $\\theta^*$ are the optimum coefficients and $\\lambda^*$ the Lagrange multipliers.\n",
    "\n",
    "For a single glitch: The function is `fit_one_glitch_lagrange.m`\n"
   ]
  },
  {
   "cell_type": "markdown",
   "metadata": {},
   "source": [
    "In every case, after finding the coefficients $\\theta$, we can estimate the optimal function as \n",
    "\n",
    "$\\begin{equation*}\n",
    "\\hat{y} = \\theta.X\n",
    "\\end{equation*} \\tag{15}$\n"
   ]
  },
  {
   "cell_type": "markdown",
   "metadata": {},
   "source": [
    "## Identify possible glitches\n",
    "\n",
    "One way to do it is to first identify the extrema of the input signal. It can be done easely in Matlab using the commands $\\texttt{localmax}$ and $\\texttt{localmin}$.\n",
    "\n",
    "The list of extrema is made using the function `find_local_maxima.m`\n",
    "\n",
    "\n",
    "\n",
    "\n"
   ]
  },
  {
   "cell_type": "markdown",
   "metadata": {},
   "source": [
    "<img src=\"plots/FindExtremaOnU_sol82.jpg\">\n",
    "Here is an example on the SOL 82 on axis U"
   ]
  },
  {
   "cell_type": "markdown",
   "metadata": {},
   "source": [
    "There are several way to fit the extrema \n",
    "1. For each axes, fit the extrema of this axis only\n",
    "2. Create a single list of extrema merging the lists of each axis. Then fit these extrema over the 3 axes.\n",
    "\n",
    "Since, the goal of this program is to split glitches into families (U only, V only... UVW with tilt... to be precised), we took the second way.\n"
   ]
  },
  {
   "cell_type": "markdown",
   "metadata": {},
   "source": [
    "#### Can we fit one glitch after another one ? \n",
    "\n",
    "In the following plot, we are looping over the list of extrema. If it works pretty well on the single extrema (no glitch around in a given radius to be discussed), the result is terrible in the cases where glitches are to closed.  \n",
    "\n",
    "<img src=\"plots/FitOneGlitchAfterAnotherOne.jpg\">\n"
   ]
  },
  {
   "cell_type": "markdown",
   "metadata": {},
   "source": [
    "#### So, what can we do ? \n",
    "\n",
    "1. Keep the full list and sort the extrema by amplitude ie. fit the biggest extrema first and then fit the smaller ones.\n",
    "2. Separate the single extrema (easy to fit with the current model) and the clusters of clusters of extrema. \n",
    "\n",
    "We decided, not to investigate in the first solution but to go throught the second one.\n",
    "So, taking a radius parameters, we \"extracted\" the single extrema and fitted them separately. \n",
    "\n",
    "The function to extract the list of single glitches is `get_single_extrema.m`"
   ]
  },
  {
   "cell_type": "markdown",
   "metadata": {},
   "source": [
    "#### Another weird case : the extrema separated from 1 or 2 bins\n",
    "\n",
    "Since we decided to merge all the extrema in a single list, it appears that an extrema can be found on an axis at an index $idx$ and an extrema can be found on another axis at some indexes $idx \\pm \\delta_{idx}$ with $\\delta_{idx}$ within $[1,3]$.\n",
    "\n",
    "\n",
    "<img src=\"plots/ExtremelyCloseGlitches.jpg\">\n",
    "\n",
    "\n",
    "Our hypothesis is that it's in fact the same glitch existing on two or three axes but, because of the sampling, they are not exactly aligned. \n",
    "\n",
    "So we decided to merge those extrema in the list to their barycenter. \n",
    "\n",
    "In the example above, we only keep to extrema."
   ]
  },
  {
   "cell_type": "markdown",
   "metadata": {},
   "source": [
    "All the single glitches are fitted with the function `fit_list_of_single_gliches` which call for every single glitch on the 3 axes, the function `fit_one_glitch_lagrange`.\n",
    "\n",
    "Until now, we were dealing with the case where extrema were not mixed. But it's far from the reality. Some time, a second glitch start very quickly after the first one. \n",
    "\n",
    "That's why, it's necessary to improve the single extremum fitting model in case we have multiple extrema."
   ]
  },
  {
   "cell_type": "markdown",
   "metadata": {},
   "source": [
    "Using the function `clusterize_extrema.m`one can see that there are numerous glitches mixed together. This function take an argument called \"radius_max\" and if two glitched are closer than this value, they are considered as entangled. In the following figure, $\\texttt{radius_max = 36}$ which corresponds to $18 s$ betwwen the two max. Note that the single glitches were already removed from the list.\n",
    "\n",
    "Most of them are double glitches but we can have more glitched entangled. \n",
    "It's important to note that the \n",
    "\n",
    "\n",
    "<img src=\"plots/HistoSizeGlitches.jpg\">"
   ]
  },
  {
   "cell_type": "markdown",
   "metadata": {},
   "source": [
    "#### Modify the model of single extremum fitting to fit more\n",
    "\n",
    "After clusterizing the extrema, we have to fit then simultaneously.\n",
    "It's a quiet easy, we just have to change $X$ and $A$ in the equation $15$\n",
    "\n",
    "1. For N glitches, create your matrix with N blocks with your Green's functions % The two parameters to fit the slope under the whole fraction of signal considered to be fitted. \n",
    "\n",
    "2. Take care that all the Green's functions must have the same size, so they must be enlarged on the left and/or on the right. The hypothesis for this is to enlarge with the first point of the function on the left and with the last point on the right. \n",
    "\n",
    "Below, an example with the first two blocks of Green's functions.\n",
    "\n",
    "\n",
    "$\\begin{equation*}\n",
    "\\small{\n",
    "\\begin{pmatrix}\n",
    "G_1(t_1) & G_1'(t_1) & \\ddot{G_1}(t_1) & \\dddot{G_1}(t_1) & G_2(t_1) & G_2'(t_1) & \\ddot{G_2}(t_1) & \\dddot{G_2}(t_1)& \\dots & U(t_1) & S(t_1)\\\\\n",
    "G_1(t_2) & G_1'(t_2) & \\ddot{G_1}(t_2) & \\dddot{G_1}(t_2) & G_2(t_2) & G_2'(t_2) & \\ddot{G_2}(t_2) & \\dddot{G_2}(t_2)& \\dots & U(t_2) & S(t_2)\\\\\n",
    "\\vdots  & \\vdots & \\vdots & \\vdots & \\vdots & \\vdots & \\vdots & \\vdots &\\vdots & \\vdots & \\vdots \\\\ \n",
    "G_1(t_m) & G_1'(t_m) & \\ddot{G_1}(t_m) & \\dddot{G_1}(t_m)  & G_2(t_m) & G_2'(t_m) & \\ddot{G_2}(t_m) & \\dddot{G_2}(t_m)& \\dots & U(t_m) & S(t_m)\n",
    "\\end{pmatrix}}\n",
    "\\end{equation*} \\tag{16}$\n",
    "\n",
    "\n"
   ]
  },
  {
   "cell_type": "markdown",
   "metadata": {},
   "source": [
    "\n",
    "<img src=\"plots/IterativeFit_vs_SimultGlitches.jpg\">\n",
    "\n",
    "\n",
    "The plot above is showing a comparison between a deglitching with an iterative way and the simultaneous fit way.\n",
    "\n",
    "We focus on this 3 glitches on the portion of signal. In the first 3 subplots, on can see the iterative way to fit glitches one by one. After the 3 fits, one can see that the residual is completly wrong. As said previously, we should probably had to fit the glitches according to their amplitude (descending order).\n",
    "\n",
    "In the last subplot, the program fitted the 3 glitches in the mean time. As we can observe, it's better look visually but better more than all, the variance of the residual is much lower than in the previous case. \n"
   ]
  },
  {
   "cell_type": "markdown",
   "metadata": {},
   "source": [
    "## Fit the glitches in one time or per decreasing amplitude\n",
    "\n",
    "Dans le cadre de ce programme d'analyse de glitches, les deux types de fit ont été développés:\n",
    "- Fitter les glitches un par un: On a besoin de cette fonction de toute manière pour les glitches éloignés. On utilise la même pour les glitches plus proches.\n",
    "- Fitter les glitches proches en une seule passe: cette fonction que je n'utilise pas par la suite, permet de déglitcher le signal. \n",
    "\n",
    "\n",
    "\n",
    "\n"
   ]
  },
  {
   "cell_type": "markdown",
   "metadata": {},
   "source": [
    "## Contraintes de ratio\n",
    "\n",
    "Le ratio entre le glitch et sa dérivée est appliqué comme contrainte sur le ratio entre le précurseur et sa dérivée. \n",
    "Dans ce cas, je prends les glitches par ordre décroissant de d'amplitude.\n",
    "Et pour chaque glitch, je commence par fitter l'axe sur lequel l'amplitude est la plus importante.\n",
    "\n",
    "- Un premier fit permet de calculer les coefficients $a$ et $b$ pour les glitchs.\n",
    "- Un second fit où je vais utiliser le ratio $b/a$ comme ratio entre le précurseur et sa dérivée.\n",
    "\n",
    "\n",
    "\n",
    "\n"
   ]
  },
  {
   "cell_type": "code",
   "execution_count": null,
   "metadata": {},
   "outputs": [],
   "source": []
  }
 ],
 "metadata": {
  "celltoolbar": "Slideshow",
  "kernelspec": {
   "display_name": "Python 3 (ipykernel)",
   "language": "python",
   "name": "python3"
  },
  "language_info": {
   "codemirror_mode": {
    "name": "ipython",
    "version": 3
   },
   "file_extension": ".py",
   "mimetype": "text/x-python",
   "name": "python",
   "nbconvert_exporter": "python",
   "pygments_lexer": "ipython3",
   "version": "3.8.5"
  }
 },
 "nbformat": 4,
 "nbformat_minor": 4
}
